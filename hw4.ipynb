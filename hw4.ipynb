{
 "cells": [
  {
   "cell_type": "code",
   "execution_count": 11,
   "id": "16594ef4-01f8-4443-83c3-8896a6895783",
   "metadata": {},
   "outputs": [],
   "source": [
    "import pandas as pd\n",
    "import numpy as np\n",
    "from sklearn.model_selection  import train_test_split"
   ]
  },
  {
   "cell_type": "code",
   "execution_count": 2,
   "id": "dfdcab02-fd89-45a6-a601-35d70df0786f",
   "metadata": {},
   "outputs": [],
   "source": [
    "df = pd.read_csv(\"data/data.csv\")"
   ]
  },
  {
   "cell_type": "code",
   "execution_count": 3,
   "id": "a4c17846-e428-46d0-82e5-f958e19699ba",
   "metadata": {},
   "outputs": [
    {
     "name": "stdout",
     "output_type": "stream",
     "text": [
      "<class 'pandas.core.frame.DataFrame'>\n",
      "RangeIndex: 11914 entries, 0 to 11913\n",
      "Data columns (total 16 columns):\n",
      " #   Column             Non-Null Count  Dtype  \n",
      "---  ------             --------------  -----  \n",
      " 0   Make               11914 non-null  object \n",
      " 1   Model              11914 non-null  object \n",
      " 2   Year               11914 non-null  int64  \n",
      " 3   Engine Fuel Type   11911 non-null  object \n",
      " 4   Engine HP          11845 non-null  float64\n",
      " 5   Engine Cylinders   11884 non-null  float64\n",
      " 6   Transmission Type  11914 non-null  object \n",
      " 7   Driven_Wheels      11914 non-null  object \n",
      " 8   Number of Doors    11908 non-null  float64\n",
      " 9   Market Category    8172 non-null   object \n",
      " 10  Vehicle Size       11914 non-null  object \n",
      " 11  Vehicle Style      11914 non-null  object \n",
      " 12  highway MPG        11914 non-null  int64  \n",
      " 13  city mpg           11914 non-null  int64  \n",
      " 14  Popularity         11914 non-null  int64  \n",
      " 15  MSRP               11914 non-null  int64  \n",
      "dtypes: float64(3), int64(5), object(8)\n",
      "memory usage: 1.5+ MB\n"
     ]
    }
   ],
   "source": [
    "df.info()"
   ]
  },
  {
   "cell_type": "code",
   "execution_count": 4,
   "id": "56566642-13bf-4811-96b4-503455252410",
   "metadata": {},
   "outputs": [
    {
     "data": {
      "text/html": [
       "<div>\n",
       "<style scoped>\n",
       "    .dataframe tbody tr th:only-of-type {\n",
       "        vertical-align: middle;\n",
       "    }\n",
       "\n",
       "    .dataframe tbody tr th {\n",
       "        vertical-align: top;\n",
       "    }\n",
       "\n",
       "    .dataframe thead th {\n",
       "        text-align: right;\n",
       "    }\n",
       "</style>\n",
       "<table border=\"1\" class=\"dataframe\">\n",
       "  <thead>\n",
       "    <tr style=\"text-align: right;\">\n",
       "      <th></th>\n",
       "      <th>Year</th>\n",
       "      <th>Engine HP</th>\n",
       "      <th>Engine Cylinders</th>\n",
       "      <th>Number of Doors</th>\n",
       "      <th>highway MPG</th>\n",
       "      <th>city mpg</th>\n",
       "      <th>Popularity</th>\n",
       "      <th>MSRP</th>\n",
       "    </tr>\n",
       "  </thead>\n",
       "  <tbody>\n",
       "    <tr>\n",
       "      <th>count</th>\n",
       "      <td>11914.00</td>\n",
       "      <td>11845.00</td>\n",
       "      <td>11884.00</td>\n",
       "      <td>11908.00</td>\n",
       "      <td>11914.00</td>\n",
       "      <td>11914.00</td>\n",
       "      <td>11914.00</td>\n",
       "      <td>11914.00</td>\n",
       "    </tr>\n",
       "    <tr>\n",
       "      <th>mean</th>\n",
       "      <td>2010.38</td>\n",
       "      <td>249.39</td>\n",
       "      <td>5.63</td>\n",
       "      <td>3.44</td>\n",
       "      <td>26.64</td>\n",
       "      <td>19.73</td>\n",
       "      <td>1554.91</td>\n",
       "      <td>40594.74</td>\n",
       "    </tr>\n",
       "    <tr>\n",
       "      <th>std</th>\n",
       "      <td>7.58</td>\n",
       "      <td>109.19</td>\n",
       "      <td>1.78</td>\n",
       "      <td>0.88</td>\n",
       "      <td>8.86</td>\n",
       "      <td>8.99</td>\n",
       "      <td>1441.86</td>\n",
       "      <td>60109.10</td>\n",
       "    </tr>\n",
       "    <tr>\n",
       "      <th>min</th>\n",
       "      <td>1990.00</td>\n",
       "      <td>55.00</td>\n",
       "      <td>0.00</td>\n",
       "      <td>2.00</td>\n",
       "      <td>12.00</td>\n",
       "      <td>7.00</td>\n",
       "      <td>2.00</td>\n",
       "      <td>2000.00</td>\n",
       "    </tr>\n",
       "    <tr>\n",
       "      <th>25%</th>\n",
       "      <td>2007.00</td>\n",
       "      <td>170.00</td>\n",
       "      <td>4.00</td>\n",
       "      <td>2.00</td>\n",
       "      <td>22.00</td>\n",
       "      <td>16.00</td>\n",
       "      <td>549.00</td>\n",
       "      <td>21000.00</td>\n",
       "    </tr>\n",
       "    <tr>\n",
       "      <th>50%</th>\n",
       "      <td>2015.00</td>\n",
       "      <td>227.00</td>\n",
       "      <td>6.00</td>\n",
       "      <td>4.00</td>\n",
       "      <td>26.00</td>\n",
       "      <td>18.00</td>\n",
       "      <td>1385.00</td>\n",
       "      <td>29995.00</td>\n",
       "    </tr>\n",
       "    <tr>\n",
       "      <th>75%</th>\n",
       "      <td>2016.00</td>\n",
       "      <td>300.00</td>\n",
       "      <td>6.00</td>\n",
       "      <td>4.00</td>\n",
       "      <td>30.00</td>\n",
       "      <td>22.00</td>\n",
       "      <td>2009.00</td>\n",
       "      <td>42231.25</td>\n",
       "    </tr>\n",
       "    <tr>\n",
       "      <th>max</th>\n",
       "      <td>2017.00</td>\n",
       "      <td>1001.00</td>\n",
       "      <td>16.00</td>\n",
       "      <td>4.00</td>\n",
       "      <td>354.00</td>\n",
       "      <td>137.00</td>\n",
       "      <td>5657.00</td>\n",
       "      <td>2065902.00</td>\n",
       "    </tr>\n",
       "  </tbody>\n",
       "</table>\n",
       "</div>"
      ],
      "text/plain": [
       "           Year  Engine HP  Engine Cylinders  Number of Doors  highway MPG  \\\n",
       "count  11914.00   11845.00          11884.00         11908.00     11914.00   \n",
       "mean    2010.38     249.39              5.63             3.44        26.64   \n",
       "std        7.58     109.19              1.78             0.88         8.86   \n",
       "min     1990.00      55.00              0.00             2.00        12.00   \n",
       "25%     2007.00     170.00              4.00             2.00        22.00   \n",
       "50%     2015.00     227.00              6.00             4.00        26.00   \n",
       "75%     2016.00     300.00              6.00             4.00        30.00   \n",
       "max     2017.00    1001.00             16.00             4.00       354.00   \n",
       "\n",
       "       city mpg  Popularity        MSRP  \n",
       "count  11914.00    11914.00    11914.00  \n",
       "mean      19.73     1554.91    40594.74  \n",
       "std        8.99     1441.86    60109.10  \n",
       "min        7.00        2.00     2000.00  \n",
       "25%       16.00      549.00    21000.00  \n",
       "50%       18.00     1385.00    29995.00  \n",
       "75%       22.00     2009.00    42231.25  \n",
       "max      137.00     5657.00  2065902.00  "
      ]
     },
     "execution_count": 4,
     "metadata": {},
     "output_type": "execute_result"
    }
   ],
   "source": [
    "df.describe().round(2)"
   ]
  },
  {
   "cell_type": "code",
   "execution_count": 5,
   "id": "9f00b536-5220-43dd-8140-a7f573e5415c",
   "metadata": {},
   "outputs": [
    {
     "data": {
      "text/plain": [
       "Make                 1.000000\n",
       "Model                1.000000\n",
       "Year                 1.000000\n",
       "Engine Fuel Type     0.999748\n",
       "Engine HP            0.994208\n",
       "Engine Cylinders     0.997482\n",
       "Transmission Type    1.000000\n",
       "Driven_Wheels        1.000000\n",
       "Number of Doors      0.999496\n",
       "Market Category      0.685916\n",
       "Vehicle Size         1.000000\n",
       "Vehicle Style        1.000000\n",
       "highway MPG          1.000000\n",
       "city mpg             1.000000\n",
       "Popularity           1.000000\n",
       "MSRP                 1.000000\n",
       "dtype: float64"
      ]
     },
     "execution_count": 5,
     "metadata": {},
     "output_type": "execute_result"
    }
   ],
   "source": [
    "df.count()/len(df) # Market category appears to have more N/A missing values"
   ]
  },
  {
   "cell_type": "code",
   "execution_count": 6,
   "id": "c35c65a6-af78-47cc-897b-62a8e8ed503a",
   "metadata": {},
   "outputs": [],
   "source": [
    "# Original column names\n",
    "selected_columns = ['Make', 'Model', 'Year', 'Engine HP', 'Engine Cylinders', 'Transmission Type', 'Vehicle Style', 'highway MPG', 'city mpg', 'MSRP']\n",
    "# Create new column names\n",
    "new_columns = [col.lower().replace(' ', '_') for col in selected_columns]\n",
    "# Create a mapping of old names to new names\n",
    "column_mapping = dict(zip(selected_columns, new_columns))\n",
    "# Rename columns in the DataFrame\n",
    "df = df.rename(columns=column_mapping)\n",
    "numeric_columns = df[new_columns].select_dtypes(include='number').columns.tolist()\n",
    "df[numeric_columns]= df[numeric_columns].fillna(0)"
   ]
  },
  {
   "cell_type": "code",
   "execution_count": 7,
   "id": "fe7044a6-4d30-4b1e-8537-f4e95290a4ae",
   "metadata": {},
   "outputs": [],
   "source": [
    "avg = df['msrp'].mean()\n",
    "df['above_average'] = df['msrp'].apply(lambda x: 1 if x > avg else 0)"
   ]
  },
  {
   "cell_type": "code",
   "execution_count": 35,
   "id": "f595c1b8-e032-4fc8-929c-c1f601aac9f1",
   "metadata": {},
   "outputs": [],
   "source": [
    "X = df[new_columns + ['above_average']].drop(columns='msrp')\n",
    "y = df['msrp']\n",
    "X_train, X_test, y_train, y_test = train_test_split(X, y, test_size=0.4,  random_state=42)\n"
   ]
  },
  {
   "cell_type": "code",
   "execution_count": null,
   "id": "b70d4df9-76da-4917-908d-3cd2cb25d3a9",
   "metadata": {},
   "outputs": [],
   "source": []
  }
 ],
 "metadata": {
  "kernelspec": {
   "display_name": "Python 3 (ipykernel)",
   "language": "python",
   "name": "python3"
  },
  "language_info": {
   "codemirror_mode": {
    "name": "ipython",
    "version": 3
   },
   "file_extension": ".py",
   "mimetype": "text/x-python",
   "name": "python",
   "nbconvert_exporter": "python",
   "pygments_lexer": "ipython3",
   "version": "3.11.5"
  }
 },
 "nbformat": 4,
 "nbformat_minor": 5
}
